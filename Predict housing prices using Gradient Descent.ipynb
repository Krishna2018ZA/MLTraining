{
 "cells": [
  {
   "cell_type": "markdown",
   "metadata": {},
   "source": [
    "# Problem Statement:"
   ]
  },
  {
   "cell_type": "markdown",
   "metadata": {},
   "source": [
    "Suppose you are selling your house and you want to know what a good market price would be. One way to do this is to first collect information on recent houses sold and make a model of housing prices. The file ex1data2.txt contains a training set of housing prices in Portland,Oregon. The first column is the size of the house (in square feet), the second column is the number of bedrooms and the third column is the price of the house.\n",
    "> \n",
    "Dataset is like below :\n",
    "\n",
    "|Size of the house (in square feet)|\tNumber of bedrooms|\tPrice of the house|\n",
    "|----------------------------------| -------------------- |-------------------|\n",
    "|2104                              | 3                    |\t399900            |\n",
    "|1600|\t3|\t329900|\n",
    "|2400|\t3|\t369000|\n",
    "\n",
    "\n",
    "Now we have to predict housing prices in Portland, Oregon.(including which is not mention in our example dataset)."
   ]
  },
  {
   "cell_type": "markdown",
   "metadata": {},
   "source": [
    "### Dependencies"
   ]
  },
  {
   "cell_type": "markdown",
   "metadata": {},
   "source": [
    "- jupyter\n",
    "- numpy\n",
    "- matplotlib\n",
    "\n",
    "Install dependencies using [pip](https://pip.pypa.io/en/stable/)\n",
    "\n"
   ]
  },
  {
   "cell_type": "code",
   "execution_count": 43,
   "metadata": {},
   "outputs": [
    {
     "name": "stdout",
     "output_type": "stream",
     "text": [
      "Om Mahaa Ganapataye Namah\n"
     ]
    }
   ],
   "source": [
    "print (\"Om Mahaa Ganapataye Namah\")"
   ]
  },
  {
   "cell_type": "code",
   "execution_count": 44,
   "metadata": {},
   "outputs": [],
   "source": [
    "import numpy as np\n",
    "import matplotlib.pyplot as plt\n",
    "import pandas as pd\n",
    "import seaborn as sns\n",
    "import math\n",
    "np.set_printoptions(suppress=True) \n",
    "from IPython.display import Image"
   ]
  },
  {
   "cell_type": "code",
   "execution_count": 45,
   "metadata": {},
   "outputs": [
    {
     "data": {
      "text/plain": [
       "array([[  2104.,      3., 399900.],\n",
       "       [  1600.,      3., 329900.],\n",
       "       [  2400.,      3., 369000.],\n",
       "       [  1416.,      2., 232000.],\n",
       "       [  3000.,      4., 539900.]])"
      ]
     },
     "execution_count": 45,
     "metadata": {},
     "output_type": "execute_result"
    }
   ],
   "source": [
    "data = np.loadtxt(\"D:/dat1/exdata.txt\",dtype=np.float64,delimiter=\",\")\n",
    "data[:5,::] #dataset loaded demonstration"
   ]
  },
  {
   "cell_type": "code",
   "execution_count": 36,
   "metadata": {
    "collapsed": true
   },
   "outputs": [
    {
     "data": {
      "text/plain": [
       "array([[  2104.,      3., 399900.],\n",
       "       [  1600.,      3., 329900.],\n",
       "       [  2400.,      3., 369000.],\n",
       "       [  1416.,      2., 232000.],\n",
       "       [  3000.,      4., 539900.],\n",
       "       [  1985.,      4., 299900.],\n",
       "       [  1534.,      3., 314900.],\n",
       "       [  1427.,      3., 198999.],\n",
       "       [  1380.,      3., 212000.],\n",
       "       [  1494.,      3., 242500.],\n",
       "       [  1940.,      4., 239999.],\n",
       "       [  2000.,      3., 347000.],\n",
       "       [  1890.,      3., 329999.],\n",
       "       [  4478.,      5., 699900.],\n",
       "       [  1268.,      3., 259900.],\n",
       "       [  2300.,      4., 449900.],\n",
       "       [  1320.,      2., 299900.],\n",
       "       [  1236.,      3., 199900.],\n",
       "       [  2609.,      4., 499998.],\n",
       "       [  3031.,      4., 599000.],\n",
       "       [  1767.,      3., 252900.],\n",
       "       [  1888.,      2., 255000.],\n",
       "       [  1604.,      3., 242900.],\n",
       "       [  1962.,      4., 259900.],\n",
       "       [  3890.,      3., 573900.],\n",
       "       [  1100.,      3., 249900.],\n",
       "       [  1458.,      3., 464500.],\n",
       "       [  2526.,      3., 469000.],\n",
       "       [  2200.,      3., 475000.],\n",
       "       [  2637.,      3., 299900.],\n",
       "       [  1839.,      2., 349900.],\n",
       "       [  1000.,      1., 169900.],\n",
       "       [  2040.,      4., 314900.],\n",
       "       [  3137.,      3., 579900.],\n",
       "       [  1811.,      4., 285900.],\n",
       "       [  1437.,      3., 249900.],\n",
       "       [  1239.,      3., 229900.],\n",
       "       [  2132.,      4., 345000.],\n",
       "       [  4215.,      4., 549000.],\n",
       "       [  2162.,      4., 287000.],\n",
       "       [  1664.,      2., 368500.],\n",
       "       [  2238.,      3., 329900.],\n",
       "       [  2567.,      4., 314000.],\n",
       "       [  1200.,      3., 299000.],\n",
       "       [   852.,      2., 179900.],\n",
       "       [  1852.,      4., 299900.],\n",
       "       [  1203.,      3., 239500.]])"
      ]
     },
     "execution_count": 36,
     "metadata": {},
     "output_type": "execute_result"
    }
   ],
   "source": [
    "data"
   ]
  },
  {
   "cell_type": "code",
   "execution_count": 46,
   "metadata": {},
   "outputs": [],
   "source": [
    "x=data[::,0:2]\n",
    "Y = data[::,-1:] #Price\n",
    "bed=x[::,-1:]  ####numbers of bedrooms\n",
    "siz=x[::,0:1]  ####size of house in sqft"
   ]
  },
  {
   "cell_type": "code",
   "execution_count": 39,
   "metadata": {
    "collapsed": true
   },
   "outputs": [
    {
     "data": {
      "text/plain": [
       "array([[  2104.,      3., 399900.],\n",
       "       [  1600.,      3., 329900.],\n",
       "       [  2400.,      3., 369000.],\n",
       "       [  1416.,      2., 232000.],\n",
       "       [  3000.,      4., 539900.]])"
      ]
     },
     "execution_count": 39,
     "metadata": {},
     "output_type": "execute_result"
    }
   ],
   "source": [
    "data[:5,:]"
   ]
  },
  {
   "cell_type": "code",
   "execution_count": 40,
   "metadata": {},
   "outputs": [
    {
     "data": {
      "text/plain": [
       "(47, 3)"
      ]
     },
     "execution_count": 40,
     "metadata": {},
     "output_type": "execute_result"
    }
   ],
   "source": [
    "# x[::,1:]\n",
    "#x[::,0:1]\n",
    "#x[:,0:1]\n",
    "\n",
    "data.shape"
   ]
  },
  {
   "cell_type": "code",
   "execution_count": 47,
   "metadata": {},
   "outputs": [
    {
     "data": {
      "image/png": "[encoded data removed]",
      "text/plain": [
       "<Figure size 432x288 with 1 Axes>"
      ]
     },
     "metadata": {},
     "output_type": "display_data"
    }
   ],
   "source": [
    "######price Vs size of house in sqft plotting\n",
    "plt.scatter(siz,Y)\n",
    "plt.xlabel(\"Size of house in sqft\")\n",
    "plt.ylabel(\"Price \")\n",
    "plt.show()"
   ]
  },
  {
   "cell_type": "code",
   "execution_count": 48,
   "metadata": {},
   "outputs": [
    {
     "data": {
      "image/png": "[encoded data removed]",
      "text/plain": [
       "<Figure size 432x288 with 1 Axes>"
      ]
     },
     "metadata": {},
     "output_type": "display_data"
    }
   ],
   "source": [
    "######price Vs number of bedrooms in plotting\n",
    "plt.scatter(bed,Y)\n",
    "plt.xlabel(\"numbers  in bedrooms\")\n",
    "plt.ylabel(\"Price \")\n",
    "plt.show()\n"
   ]
  },
  {
   "cell_type": "code",
   "execution_count": 49,
   "metadata": {},
   "outputs": [
    {
     "name": "stdout",
     "output_type": "stream",
     "text": [
      "47 2\n"
     ]
    },
    {
     "data": {
      "text/plain": [
       "array([1., 1., 1., 1., 1., 1., 1., 1., 1., 1., 1., 1., 1., 1., 1., 1., 1.,\n",
       "       1., 1., 1., 1., 1., 1., 1., 1., 1., 1., 1., 1., 1., 1., 1., 1., 1.,\n",
       "       1., 1., 1., 1., 1., 1., 1., 1., 1., 1., 1., 1., 1.])"
      ]
     },
     "execution_count": 49,
     "metadata": {},
     "output_type": "execute_result"
    }
   ],
   "source": [
    "a,b=x.shape\n",
    "print (a,b)\n",
    "np.ones((a))"
   ]
  },
  {
   "cell_type": "code",
   "execution_count": 50,
   "metadata": {},
   "outputs": [
    {
     "name": "stdout",
     "output_type": "stream",
     "text": [
      "[[0.86055203 0.45717188 0.74299088]]\n"
     ]
    },
    {
     "data": {
      "text/plain": [
       "array([[0.86055203],\n",
       "       [0.45717188],\n",
       "       [0.74299088]])"
      ]
     },
     "execution_count": 50,
     "metadata": {},
     "output_type": "execute_result"
    }
   ],
   "source": [
    "Theta=np.random.rand(1,3)\n",
    "print(Theta)\n",
    "Theta.transpose()"
   ]
  },
  {
   "cell_type": "code",
   "execution_count": 51,
   "metadata": {},
   "outputs": [
    {
     "name": "stdout",
     "output_type": "stream",
     "text": [
      "X_bias = \n",
      " [[   1. 2104.    3.]\n",
      " [   1. 1600.    3.]\n",
      " [   1. 2400.    3.]\n",
      " [   1. 1416.    2.]\n",
      " [   1. 3000.    4.]]\n",
      "Y = \n",
      " [[399900.]\n",
      " [329900.]\n",
      " [369000.]\n",
      " [232000.]\n",
      " [539900.]]\n"
     ]
    }
   ],
   "source": [
    "# introduce weights of hypothesis (randomly initialize)\n",
    "Theta = np.random.rand(1,3)\n",
    "# m is total example set , n is number of features\n",
    "m,n = x.shape\n",
    "# print(np.ones((m,3)))\n",
    "# add bias to input matrix by simple make X0 = 1 for all\n",
    "X_bias = np.ones((m,n+1))\n",
    "X_bias[::,1:] =x\n",
    "# output first 5 X_bias examples\n",
    "print (\"X_bias = \\n\",X_bias[0:5,:])\n",
    "print (\"Y = \\n\",Y[0:5,::])"
   ]
  },
  {
   "cell_type": "code",
   "execution_count": 66,
   "metadata": {},
   "outputs": [
    {
     "data": {
      "text/plain": [
       "141"
      ]
     },
     "execution_count": 66,
     "metadata": {},
     "output_type": "execute_result"
    }
   ],
   "source": [
    "X_bias.size"
   ]
  },
  {
   "cell_type": "code",
   "execution_count": 11,
   "metadata": {},
   "outputs": [
    {
     "data": {
      "text/plain": [
       "(47, 1)"
      ]
     },
     "execution_count": 11,
     "metadata": {},
     "output_type": "execute_result"
    }
   ],
   "source": [
    "Y.shape"
   ]
  },
  {
   "cell_type": "code",
   "execution_count": 56,
   "metadata": {},
   "outputs": [
    {
     "data": {
      "text/plain": [
       "array([[ 1.        ,  0.13141542, -0.22609337],\n",
       "       [ 1.        , -0.5096407 , -0.22609337],\n",
       "       [ 1.        ,  0.5079087 , -0.22609337],\n",
       "       [ 1.        , -0.74367706, -1.5543919 ],\n",
       "       [ 1.        ,  1.27107075,  1.10220517]])"
      ]
     },
     "execution_count": 56,
     "metadata": {},
     "output_type": "execute_result"
    }
   ],
   "source": [
    "#feature Scaling\n",
    "# it also protect program from overflow error\n",
    "mean_size = np.mean(X_bias[::,1:2])    ####mean of the size of the rooms in sqft\n",
    "mean_bedroom = np.mean(X_bias[::,2:])     #####mean of the bedrooms\n",
    "size_std = np.std(X_bias[::,1:2])        ######standard deviation  of the size of the rooms\n",
    "bedroom_std = np.std(X_bias[::,2:])      ######standard deviation of the bedrooms\n",
    "X_bias[::,1:2] = (X_bias[::,1:2] - mean_size)/ (size_std)   #####  range of size: -1 < size < +1\n",
    "X_bias[::,2:] = (X_bias[::,2:] - mean_bedroom)/ (bedroom_std)   ##### range of bedroom: -1 < bedroom < +1\n",
    "X_bias[0:5,::]      ####displaying some of the valuess"
   ]
  },
  {
   "cell_type": "code",
   "execution_count": 57,
   "metadata": {},
   "outputs": [],
   "source": [
    "#define function to find cost\n",
    "def cost(X_bias,Y,Theta):\n",
    "    np.seterr(over='raise')    ###handling with floating vaues\n",
    "    m,n = x.shape\n",
    "    hypothesis = X_bias.dot(Theta.transpose())    # y = xTx \n",
    "    return (1/(2.0*m))*((np.square(hypothesis-Y)).sum(axis=0)) "
   ]
  },
  {
   "cell_type": "code",
   "execution_count": 63,
   "metadata": {},
   "outputs": [
    {
     "name": "stdout",
     "output_type": "stream",
     "text": [
      "[[ 1.          0.13141542 -0.22609337]\n",
      " [ 1.         -0.5096407  -0.22609337]\n",
      " [ 1.          0.5079087  -0.22609337]\n",
      " [ 1.         -0.74367706 -1.5543919 ]\n",
      " [ 1.          1.27107075  1.10220517]]\n",
      "/n\n",
      "Theta Values  [[340412.65953011  72655.84621595  59125.40416724]]\n",
      "/n\n",
      "340412.6595301094\n"
     ]
    }
   ],
   "source": [
    "print (X_bias[0:5,:])\n",
    "print ('/n')\n",
    "print ('Theta Values ' ,Theta)\n",
    "print ('/n')\n",
    "X_bias.dot(Theta.transpose())\n",
    "print(Theta[0,0]) "
   ]
  },
  {
   "cell_type": "code",
   "execution_count": 59,
   "metadata": {},
   "outputs": [],
   "source": [
    "#function gradient descent algorithm from minimizing theta\n",
    "def gradientDescent(X_bias,Y,Theta,iterations,alpha):\n",
    "    count = 1\n",
    "    cost_log = np.array([])\n",
    "    while(count <= iterations):\n",
    "        hypothesis = X_bias.dot(Theta.transpose())\n",
    "        temp0 = Theta[0,0] - alpha*(1.0/m)*((hypothesis-Y)*(X_bias[::,0:1])).sum(axis=0)\n",
    "        temp1 = Theta[0,1] - alpha*(1.0/m)*((hypothesis-Y)*(X_bias[::,1:2])).sum(axis=0)\n",
    "        temp2 = Theta[0,1] - alpha*(1.0/m)*((hypothesis-Y)*(X_bias[::,-1:])).sum(axis=0)\n",
    "        Theta[0,0] = temp0\n",
    "        Theta[0,1] = temp1\n",
    "        Theta[0,2] = temp2\n",
    "        cost_log = np.append(cost_log,cost(X_bias,Y,Theta))\n",
    "        count = count + 1\n",
    "    plt.plot(np.linspace(1,iterations,iterations,endpoint=True),cost_log)\n",
    "    plt.title(\"Iteration vs Cost graph \")\n",
    "    plt.xlabel(\"Number of iteration\")\n",
    "    plt.ylabel(\"Cost of Theta\")\n",
    "    plt.show()\n",
    "    return Theta"
   ]
  },
  {
   "cell_type": "code",
   "execution_count": 60,
   "metadata": {},
   "outputs": [
    {
     "data": {
      "image/png": "[encoded data removed]",
      "text/plain": [
       "<Figure size 432x288 with 1 Axes>"
      ]
     },
     "metadata": {},
     "output_type": "display_data"
    },
    {
     "name": "stdout",
     "output_type": "stream",
     "text": [
      "[[340412.65953011  72655.84621595  59125.40416724]]\n"
     ]
    }
   ],
   "source": [
    "alpha = 0.3\n",
    "iterations = 100\n",
    "Theta = gradientDescent(X_bias,Y,Theta,iterations,alpha)\n",
    "print (Theta)"
   ]
  },
  {
   "cell_type": "code",
   "execution_count": 61,
   "metadata": {},
   "outputs": [
    {
     "name": "stdout",
     "output_type": "stream",
     "text": [
      "Cost of house with 1650 sq ft and 3 bedroom is  [294637.10367102]\n"
     ]
    }
   ],
   "source": [
    "# predict the price of a house with 1650 square feet and 3 bedrooms\n",
    "# add bias unit 1.0\n",
    "X_predict = np.array([1.0,1650.0,3]) \n",
    "#feature scaling the data first\n",
    "X_predict[1] = (X_predict[1] - mean_size)/ (size_std) \n",
    "X_predict[2] = (X_predict[2]- mean_bedroom)/ (bedroom_std)\n",
    "hypothesis = X_predict.dot(Theta.transpose())\n",
    "print (\"Cost of house with 1650 sq ft and 3 bedroom is \",hypothesis)"
   ]
  },
  {
   "cell_type": "markdown",
   "metadata": {},
   "source": [
    "# "
   ]
  },
  {
   "cell_type": "code",
   "execution_count": null,
   "metadata": {},
   "outputs": [],
   "source": []
  },
  {
   "cell_type": "code",
   "execution_count": 62,
   "metadata": {},
   "outputs": [
    {
     "data": {
      "image/png": "[encoded data removed]",
      "text/plain": [
       "<IPython.core.display.Image object>"
      ]
     },
     "execution_count": 62,
     "metadata": {
      "image/png": {
       "height": 315,
       "width": 520
      }
     },
     "output_type": "execute_result"
    }
   ],
   "source": [
    "Image(\"D:/Ana/dotproduct.png\",width=520,height=315)"
   ]
  },
  {
   "cell_type": "code",
   "execution_count": 4,
   "metadata": {},
   "outputs": [],
   "source": [
    "import numpy as np\n",
    "a = np.array([[1, 2], [3, 4]])\n",
    "b = np.array([[5, 10], [15, 20]])\n",
    "c = a*b"
   ]
  },
  {
   "cell_type": "code",
   "execution_count": 5,
   "metadata": {},
   "outputs": [
    {
     "name": "stdout",
     "output_type": "stream",
     "text": [
      "Matrix a:\n",
      " [[1 2]\n",
      " [3 4]]\n",
      "Matrix b:\n",
      " [[ 5 10]\n",
      " [15 20]]\n",
      "Resultant Matrix:\n",
      "  [[ 5 20]\n",
      " [45 80]]\n"
     ]
    }
   ],
   "source": [
    "print('Matrix a:\\n', a)\n",
    "print('Matrix b:\\n', b)\n",
    "print('Resultant Matrix:\\n ', c)"
   ]
  },
  {
   "cell_type": "code",
   "execution_count": 6,
   "metadata": {},
   "outputs": [
    {
     "data": {
      "text/plain": [
       "array([[ 5, 45],\n",
       "       [20, 80]])"
      ]
     },
     "execution_count": 6,
     "metadata": {},
     "output_type": "execute_result"
    }
   ],
   "source": [
    "c.T"
   ]
  },
  {
   "cell_type": "code",
   "execution_count": 106,
   "metadata": {},
   "outputs": [
    {
     "data": {
      "text/plain": [
       "array([[ 5, 20],\n",
       "       [45, 80]])"
      ]
     },
     "execution_count": 106,
     "metadata": {},
     "output_type": "execute_result"
    }
   ],
   "source": [
    "c"
   ]
  },
  {
   "cell_type": "code",
   "execution_count": 7,
   "metadata": {},
   "outputs": [
    {
     "ename": "NameError",
     "evalue": "name 'Theta' is not defined",
     "output_type": "error",
     "traceback": [
      "\u001b[1;31m---------------------------------------------------------------------------\u001b[0m",
      "\u001b[1;31mNameError\u001b[0m                                 Traceback (most recent call last)",
      "\u001b[1;32m<ipython-input-7-4c3b6b788b4f>\u001b[0m in \u001b[0;36m<module>\u001b[1;34m()\u001b[0m\n\u001b[1;32m----> 1\u001b[1;33m \u001b[0mTheta\u001b[0m\u001b[1;33m\u001b[0m\u001b[0m\n\u001b[0m",
      "\u001b[1;31mNameError\u001b[0m: name 'Theta' is not defined"
     ]
    }
   ],
   "source": [
    "Theta"
   ]
  },
  {
   "cell_type": "code",
   "execution_count": 108,
   "metadata": {},
   "outputs": [
    {
     "data": {
      "text/plain": [
       "array([[0.13319351],\n",
       "       [0.91836277],\n",
       "       [0.56175839]])"
      ]
     },
     "execution_count": 108,
     "metadata": {},
     "output_type": "execute_result"
    }
   ],
   "source": [
    "Theta.T"
   ]
  },
  {
   "cell_type": "code",
   "execution_count": 10,
   "metadata": {},
   "outputs": [
    {
     "ename": "NameError",
     "evalue": "name 'X_bias' is not defined",
     "output_type": "error",
     "traceback": [
      "\u001b[1;31m---------------------------------------------------------------------------\u001b[0m",
      "\u001b[1;31mNameError\u001b[0m                                 Traceback (most recent call last)",
      "\u001b[1;32m<ipython-input-10-5d81b4000f53>\u001b[0m in \u001b[0;36m<module>\u001b[1;34m()\u001b[0m\n\u001b[1;32m----> 1\u001b[1;33m \u001b[0mX_bias\u001b[0m \u001b[1;33m*\u001b[0m \u001b[0mnp\u001b[0m\u001b[1;33m.\u001b[0m\u001b[0mdot\u001b[0m\u001b[1;33m(\u001b[0m\u001b[0mTheta\u001b[0m\u001b[1;33m)\u001b[0m\u001b[1;33m\u001b[0m\u001b[0m\n\u001b[0m",
      "\u001b[1;31mNameError\u001b[0m: name 'X_bias' is not defined"
     ]
    }
   ],
   "source": [
    "X_bias * np.dot(Theta)"
   ]
  },
  {
   "cell_type": "code",
   "execution_count": null,
   "metadata": {},
   "outputs": [],
   "source": [
    "# y = c + mx. In this case yhat = theta[0][0]+ theta[0][1]*x\n"
   ]
  },
  {
   "cell_type": "code",
   "execution_count": null,
   "metadata": {},
   "outputs": [],
   "source": []
  },
  {
   "cell_type": "code",
   "execution_count": 18,
   "metadata": {},
   "outputs": [
    {
     "data": {
      "text/plain": [
       "224"
      ]
     },
     "execution_count": 18,
     "metadata": {},
     "output_type": "execute_result"
    }
   ],
   "source": [
    "a1 = np.array([2,4,6,8,10,12])\n",
    "#a2 = np.array([2,3,4,5,6,7]).reshape(2,3)\n",
    "a2 = np.array([2,3,4,5,6,7])\n",
    "np.dot(a1,a2)"
   ]
  },
  {
   "cell_type": "code",
   "execution_count": 20,
   "metadata": {},
   "outputs": [
    {
     "data": {
      "text/plain": [
       "224"
      ]
     },
     "execution_count": 20,
     "metadata": {},
     "output_type": "execute_result"
    }
   ],
   "source": [
    "2* 2 + 4 * 3 + 6 * 4 +  8 * 5 + 10 * 6 + 12 * 7"
   ]
  },
  {
   "cell_type": "code",
   "execution_count": 15,
   "metadata": {},
   "outputs": [
    {
     "data": {
      "text/plain": [
       "array([ 4, 12, 24, 40, 60])"
      ]
     },
     "execution_count": 15,
     "metadata": {},
     "output_type": "execute_result"
    }
   ],
   "source": [
    "a1 * a2"
   ]
  },
  {
   "cell_type": "code",
   "execution_count": 16,
   "metadata": {},
   "outputs": [
    {
     "data": {
      "text/plain": [
       "array([2, 3, 4, 5, 6])"
      ]
     },
     "execution_count": 16,
     "metadata": {},
     "output_type": "execute_result"
    }
   ],
   "source": [
    "a2"
   ]
  },
  {
   "cell_type": "code",
   "execution_count": null,
   "metadata": {},
   "outputs": [],
   "source": []
  }
 ],
 "metadata": {
  "kernelspec": {
   "display_name": "Python 3",
   "language": "python",
   "name": "python3"
  },
  "language_info": {
   "codemirror_mode": {
    "name": "ipython",
    "version": 3
   },
   "file_extension": ".py",
   "mimetype": "text/x-python",
   "name": "python",
   "nbconvert_exporter": "python",
   "pygments_lexer": "ipython3",
   "version": "3.6.5"
  }
 },
 "nbformat": 4,
 "nbformat_minor": 2
}
