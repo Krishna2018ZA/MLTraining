{
 "cells": [
  {
   "cell_type": "code",
   "execution_count": 1,
   "metadata": {},
   "outputs": [],
   "source": [
    "import numpy as np\n",
    "import pandas as pd"
   ]
  },
  {
   "cell_type": "code",
   "execution_count": 15,
   "metadata": {},
   "outputs": [],
   "source": [
    "retail = pd.read_csv(\"D:/dat1/retailMissing.csv\", sep=',', encoding = 'ISO-8859-1')"
   ]
  },
  {
   "cell_type": "code",
   "execution_count": 3,
   "metadata": {},
   "outputs": [
    {
     "data": {
      "text/html": [
       "<div>\n",
       "<style scoped>\n",
       "    .dataframe tbody tr th:only-of-type {\n",
       "        vertical-align: middle;\n",
       "    }\n",
       "\n",
       "    .dataframe tbody tr th {\n",
       "        vertical-align: top;\n",
       "    }\n",
       "\n",
       "    .dataframe thead th {\n",
       "        text-align: right;\n",
       "    }\n",
       "</style>\n",
       "<table border=\"1\" class=\"dataframe\">\n",
       "  <thead>\n",
       "    <tr style=\"text-align: right;\">\n",
       "      <th></th>\n",
       "      <th>Product Name</th>\n",
       "      <th>Category</th>\n",
       "      <th>storeManager</th>\n",
       "      <th>quantity</th>\n",
       "      <th>Price</th>\n",
       "      <th>PercentageSold</th>\n",
       "    </tr>\n",
       "  </thead>\n",
       "  <tbody>\n",
       "    <tr>\n",
       "      <th>0</th>\n",
       "      <td>Eldon Base for stackable storage shelf, platinum</td>\n",
       "      <td>Storage &amp; Organization</td>\n",
       "      <td>Muhammed MacIntyre</td>\n",
       "      <td>3.0</td>\n",
       "      <td>35.00</td>\n",
       "      <td>0.80</td>\n",
       "    </tr>\n",
       "    <tr>\n",
       "      <th>1</th>\n",
       "      <td>1.7 Cubic Foot Compact \"Cube\" Office Refrigera...</td>\n",
       "      <td>Appliances</td>\n",
       "      <td>Barry French</td>\n",
       "      <td>293.0</td>\n",
       "      <td>68.02</td>\n",
       "      <td>0.58</td>\n",
       "    </tr>\n",
       "    <tr>\n",
       "      <th>2</th>\n",
       "      <td>Cardinal Slant-D® Ring Binder, Heavy Gauge Vinyl</td>\n",
       "      <td>Binders and Binder Accessories</td>\n",
       "      <td>Barry French</td>\n",
       "      <td>293.0</td>\n",
       "      <td>2.99</td>\n",
       "      <td>0.39</td>\n",
       "    </tr>\n",
       "    <tr>\n",
       "      <th>3</th>\n",
       "      <td>R380</td>\n",
       "      <td>Telephones and Communication</td>\n",
       "      <td>Clay Rozendal</td>\n",
       "      <td>NaN</td>\n",
       "      <td>3.99</td>\n",
       "      <td>NaN</td>\n",
       "    </tr>\n",
       "    <tr>\n",
       "      <th>4</th>\n",
       "      <td>Holmes HEPA Air Purifier</td>\n",
       "      <td>Appliances</td>\n",
       "      <td>Carlos Soltero</td>\n",
       "      <td>515.0</td>\n",
       "      <td>5.94</td>\n",
       "      <td>0.50</td>\n",
       "    </tr>\n",
       "  </tbody>\n",
       "</table>\n",
       "</div>"
      ],
      "text/plain": [
       "                                        Product Name  \\\n",
       "0   Eldon Base for stackable storage shelf, platinum   \n",
       "1  1.7 Cubic Foot Compact \"Cube\" Office Refrigera...   \n",
       "2   Cardinal Slant-D® Ring Binder, Heavy Gauge Vinyl   \n",
       "3                                               R380   \n",
       "4                           Holmes HEPA Air Purifier   \n",
       "\n",
       "                         Category        storeManager  quantity  Price  \\\n",
       "0          Storage & Organization  Muhammed MacIntyre       3.0  35.00   \n",
       "1                      Appliances        Barry French     293.0  68.02   \n",
       "2  Binders and Binder Accessories        Barry French     293.0   2.99   \n",
       "3    Telephones and Communication       Clay Rozendal       NaN   3.99   \n",
       "4                      Appliances      Carlos Soltero     515.0   5.94   \n",
       "\n",
       "   PercentageSold  \n",
       "0            0.80  \n",
       "1            0.58  \n",
       "2            0.39  \n",
       "3             NaN  \n",
       "4            0.50  "
      ]
     },
     "execution_count": 3,
     "metadata": {},
     "output_type": "execute_result"
    }
   ],
   "source": [
    "retail.head()"
   ]
  },
  {
   "cell_type": "code",
   "execution_count": 4,
   "metadata": {},
   "outputs": [
    {
     "data": {
      "text/plain": [
       "(100, 6)"
      ]
     },
     "execution_count": 4,
     "metadata": {},
     "output_type": "execute_result"
    }
   ],
   "source": [
    "retail.shape"
   ]
  },
  {
   "cell_type": "code",
   "execution_count": 5,
   "metadata": {},
   "outputs": [
    {
     "data": {
      "text/plain": [
       "600"
      ]
     },
     "execution_count": 5,
     "metadata": {},
     "output_type": "execute_result"
    }
   ],
   "source": [
    "retail.size"
   ]
  },
  {
   "cell_type": "code",
   "execution_count": 6,
   "metadata": {},
   "outputs": [
    {
     "data": {
      "text/plain": [
       "Product Name       3\n",
       "Category           9\n",
       "storeManager       2\n",
       "quantity          27\n",
       "Price              8\n",
       "PercentageSold    15\n",
       "dtype: int64"
      ]
     },
     "execution_count": 6,
     "metadata": {},
     "output_type": "execute_result"
    }
   ],
   "source": [
    "retail.isnull().sum()"
   ]
  },
  {
   "cell_type": "code",
   "execution_count": 7,
   "metadata": {},
   "outputs": [
    {
     "data": {
      "text/plain": [
       "64"
      ]
     },
     "execution_count": 7,
     "metadata": {},
     "output_type": "execute_result"
    }
   ],
   "source": [
    "retail.isnull().sum().sum()"
   ]
  },
  {
   "cell_type": "code",
   "execution_count": 9,
   "metadata": {},
   "outputs": [
    {
     "data": {
      "text/plain": [
       "Paper                             21\n",
       "Binders and Binder Accessories     9\n",
       "Telephones and Communication       9\n",
       "Office Furnishings                 7\n",
       "Storage & Organization             7\n",
       "Appliances                         6\n",
       "Labels                             5\n",
       "Pens & Art Supplies                5\n",
       "Computer Peripherals               5\n",
       "Chairs & Chairmats                 5\n",
       "Rubber Bands                       3\n",
       "Bookcases                          3\n",
       "Envelopes                          2\n",
       "Tables                             2\n",
       "Copiers and Fax                    1\n",
       "Scissors, Rulers and Trimmers      1\n",
       "Name: Category, dtype: int64"
      ]
     },
     "execution_count": 9,
     "metadata": {},
     "output_type": "execute_result"
    }
   ],
   "source": [
    "retail.Category.value_counts()"
   ]
  },
  {
   "cell_type": "code",
   "execution_count": 10,
   "metadata": {},
   "outputs": [
    {
     "data": {
      "text/plain": [
       "9"
      ]
     },
     "execution_count": 10,
     "metadata": {},
     "output_type": "execute_result"
    }
   ],
   "source": [
    "retail.Category.isnull().sum()"
   ]
  },
  {
   "cell_type": "code",
   "execution_count": 11,
   "metadata": {},
   "outputs": [
    {
     "data": {
      "text/plain": [
       "(57, 6)"
      ]
     },
     "execution_count": 11,
     "metadata": {},
     "output_type": "execute_result"
    }
   ],
   "source": [
    "retail.dropna(how='any').shape"
   ]
  },
  {
   "cell_type": "code",
   "execution_count": 12,
   "metadata": {},
   "outputs": [
    {
     "data": {
      "text/plain": [
       "(100, 6)"
      ]
     },
     "execution_count": 12,
     "metadata": {},
     "output_type": "execute_result"
    }
   ],
   "source": [
    "retail.shape"
   ]
  },
  {
   "cell_type": "code",
   "execution_count": 13,
   "metadata": {},
   "outputs": [],
   "source": [
    "retail.dropna(how='any', inplace = True)\n",
    "retail.dropna(how='all', inplace = True)"
   ]
  },
  {
   "cell_type": "code",
   "execution_count": 14,
   "metadata": {},
   "outputs": [
    {
     "data": {
      "text/plain": [
       "(57, 6)"
      ]
     },
     "execution_count": 14,
     "metadata": {},
     "output_type": "execute_result"
    }
   ],
   "source": [
    "retail.shape"
   ]
  },
  {
   "cell_type": "code",
   "execution_count": 16,
   "metadata": {},
   "outputs": [
    {
     "data": {
      "text/plain": [
       "(100, 6)"
      ]
     },
     "execution_count": 16,
     "metadata": {},
     "output_type": "execute_result"
    }
   ],
   "source": [
    "retail.shape"
   ]
  },
  {
   "cell_type": "code",
   "execution_count": 18,
   "metadata": {},
   "outputs": [
    {
     "data": {
      "text/plain": [
       "Product Name       3\n",
       "Category           9\n",
       "storeManager       2\n",
       "quantity          27\n",
       "Price              8\n",
       "PercentageSold    15\n",
       "dtype: int64"
      ]
     },
     "execution_count": 18,
     "metadata": {},
     "output_type": "execute_result"
    }
   ],
   "source": [
    "retail.isnull().sum()"
   ]
  },
  {
   "cell_type": "code",
   "execution_count": 19,
   "metadata": {},
   "outputs": [
    {
     "data": {
      "text/plain": [
       "5126.013698630137"
      ]
     },
     "execution_count": 19,
     "metadata": {},
     "output_type": "execute_result"
    }
   ],
   "source": [
    "np.mean(retail.quantity)"
   ]
  },
  {
   "cell_type": "code",
   "execution_count": 22,
   "metadata": {},
   "outputs": [],
   "source": [
    "retail.quantity.fillna(np.mean(retail['quantity']),inplace=True)"
   ]
  },
  {
   "cell_type": "code",
   "execution_count": 24,
   "metadata": {},
   "outputs": [
    {
     "data": {
      "text/plain": [
       "Product Name       3\n",
       "Category           9\n",
       "storeManager       2\n",
       "quantity           0\n",
       "Price              8\n",
       "PercentageSold    15\n",
       "dtype: int64"
      ]
     },
     "execution_count": 24,
     "metadata": {},
     "output_type": "execute_result"
    }
   ],
   "source": [
    "retail.isnull().sum()"
   ]
  },
  {
   "cell_type": "code",
   "execution_count": 32,
   "metadata": {},
   "outputs": [],
   "source": [
    "retail['Category'].fillna('Category Not Available', inplace=True)\n",
    "retail['Product Name'].fillna('Not Available', inplace=True)"
   ]
  },
  {
   "cell_type": "code",
   "execution_count": 26,
   "metadata": {},
   "outputs": [
    {
     "data": {
      "text/plain": [
       "Product Name       0\n",
       "Category           9\n",
       "storeManager       2\n",
       "quantity           0\n",
       "Price              8\n",
       "PercentageSold    15\n",
       "dtype: int64"
      ]
     },
     "execution_count": 26,
     "metadata": {},
     "output_type": "execute_result"
    }
   ],
   "source": [
    "retail.isnull().sum(0)"
   ]
  },
  {
   "cell_type": "code",
   "execution_count": 27,
   "metadata": {},
   "outputs": [
    {
     "data": {
      "text/plain": [
       "0      Eldon Base for stackable storage shelf, platinum\n",
       "1     1.7 Cubic Foot Compact \"Cube\" Office Refrigera...\n",
       "2      Cardinal Slant-D® Ring Binder, Heavy Gauge Vinyl\n",
       "3                                                  R380\n",
       "4                              Holmes HEPA Air Purifier\n",
       "5     G.E. Longer-Life Indoor Recessed Floodlight Bulbs\n",
       "6     Angle-D Binders with Locking Rings, Label Holders\n",
       "7               SAFCO Mobile Desk Side File, Wire Frame\n",
       "8                 SAFCO Commercial Wire Shelving, Black\n",
       "9                                             Xerox 198\n",
       "10                                           Xerox 1980\n",
       "11      Advantus Map Pennant Flags and Round Head Tacks\n",
       "12                             Holmes HEPA Air Purifier\n",
       "13    DS/HD IBM Formatted Diskettes, 200/Pack - Staples\n",
       "14       Wilson Jones 1\" Hanging DublLock® Ring Binders\n",
       "15        Ultra Commercial Grade Dual Valve Door Closer\n",
       "16    #10-4 1/8\" x 9 1/2\" Premium Diagonal Seam Enve...\n",
       "17                          Hon 4-Shelf Metal Bookcases\n",
       "18    Lesro Sheffield Collection Coffee Table, End T...\n",
       "19                                        Not Available\n",
       "20                                               LX 788\n",
       "21                                             Avery 52\n",
       "22              Plymouth Boxed Rubber Bands by Plymouth\n",
       "23    GBC Pre-Punched Binding Paper, Plastic, White,...\n",
       "24    Maxell 3.5\" DS/HD IBM-Formatted Diskettes, 10/...\n",
       "25                                           Newell 335\n",
       "26       SANFORD Liquid Accent Tank-Style Highlighters\n",
       "27                                   Canon PC940 Copier\n",
       "28    Tenex Personal Project File with Scoop Front D...\n",
       "29                      Col-Erase® Pencils with Erasers\n",
       "                            ...                        \n",
       "70                     12-1/2 Diameter Round Wall Clock\n",
       "71                             SAFCO Arco Folding Chair\n",
       "72           #10 White Business Envelopes,4 1/8 x 9 1/2\n",
       "73                                3M Office Air Cleaner\n",
       "74        Global Leather and Oak Executive Chair, Black\n",
       "75                                           Xerox 1936\n",
       "76                                            Xerox 214\n",
       "77    Carina Double Wide Media Storage Towers in Nat...\n",
       "78                  Staples® General Use 3-Ring Binders\n",
       "79                                           Xerox 1904\n",
       "80         Luxo Professional Combination Clamp-On Lamps\n",
       "81                                            Xerox 217\n",
       "82                  Revere Boxed Rubber Bands by Revere\n",
       "83    Acco Smartsocket Table Surge Protector, 6 Col...\n",
       "84    Tennsco Snap-Together Open Shelving Units, Sta...\n",
       "85    Hon 4070 Series Pagoda Round Back Stacking Ch...\n",
       "86                                           Xerox 1887\n",
       "87                                           Xerox 1891\n",
       "88                                            Avery 506\n",
       "89    Bush Heritage Pine Collection 5-Shelf Bookcase...\n",
       "90         Lifetime Advantage Folding Chairs, 4/Carton\n",
       "91                Microsoft Natural Multimedia Keyboard\n",
       "92      Staples Wirebound Steno Books, 6\" x 9\", 12/Pack\n",
       "93    GBC Pre-Punched Binding Paper, Plastic, White,...\n",
       "94                   Bevis Boat-Shaped Conference Table\n",
       "95                Linden® 12\" Wall Clock With Oak Frame\n",
       "96                                           Newell 326\n",
       "97                         Prismacolor Color Pencil Set\n",
       "98                           Xerox Blank Computer Paper\n",
       "99                                      600 Series Flip\n",
       "Name: Product Name, Length: 100, dtype: object"
      ]
     },
     "execution_count": 27,
     "metadata": {},
     "output_type": "execute_result"
    }
   ],
   "source": [
    "retail['Product Name']"
   ]
  },
  {
   "cell_type": "code",
   "execution_count": 29,
   "metadata": {},
   "outputs": [
    {
     "data": {
      "text/plain": [
       "'Grant Carroll'"
      ]
     },
     "execution_count": 29,
     "metadata": {},
     "output_type": "execute_result"
    }
   ],
   "source": [
    "sm = retail.storeManager.mode()\n",
    "sm[0]"
   ]
  },
  {
   "cell_type": "code",
   "execution_count": 30,
   "metadata": {},
   "outputs": [],
   "source": [
    "retail.storeManager.fillna(sm[0],inplace=True)"
   ]
  },
  {
   "cell_type": "code",
   "execution_count": 33,
   "metadata": {},
   "outputs": [
    {
     "data": {
      "text/plain": [
       "Product Name       0\n",
       "Category           0\n",
       "storeManager       0\n",
       "quantity           0\n",
       "Price              8\n",
       "PercentageSold    15\n",
       "dtype: int64"
      ]
     },
     "execution_count": 33,
     "metadata": {},
     "output_type": "execute_result"
    }
   ],
   "source": [
    "retail.isnull().sum()"
   ]
  },
  {
   "cell_type": "code",
   "execution_count": 34,
   "metadata": {},
   "outputs": [
    {
     "data": {
      "text/plain": [
       "Product Name\n",
       "#10 White Business Envelopes,4 1/8 x 9 1/2                                                          1.39\n",
       "#10-4 1/8\" x 9 1/2\" Premium Diagonal Seam Envelopes                                                 1.39\n",
       "1.7 Cubic Foot Compact \"Cube\" Office Refrigerators                                                 68.02\n",
       "12-1/2 Diameter Round Wall Clock                                                                     NaN\n",
       "3M Office Air Cleaner                                                                               5.37\n",
       "600 Series Flip                                                                                     8.99\n",
       "6160                                                                                                2.50\n",
       "80 Minute CD-R Spindle, 100/Pack - Staples                                                          1.99\n",
       "APC 7 Outlet Network SurgeArrest Surge Protector                                                    4.50\n",
       "Accessory37                                                                                         2.50\n",
       "Accessory4                                                                                          0.99\n",
       "Acco Smartsocket Table Surge Protector, 6 Color-Coded Adapter Outlets                              3.99\n",
       "Adams Telephone Message Book W/Dividers/Space For Phone Numbers, 5 1/4\"X8 1/2\", 300/Messages        3.04\n",
       "Advantus Map Pennant Flags and Round Head Tacks                                                     2.00\n",
       "Angle-D Binders with Locking Rings, Label Holders                                                   7.72\n",
       "Avery 49                                                                                            0.50\n",
       "Avery 506                                                                                           0.50\n",
       "Avery 510                                                                                           0.50\n",
       "Avery 52                                                                                            0.50\n",
       "Avery Binder Labels                                                                                 7.01\n",
       "Bell Sonecor JB700 Caller ID                                                                        5.03\n",
       "Bevis Boat-Shaped Conference Table                                                                 62.74\n",
       "Bevis Steel Folding Chairs                                                                         74.35\n",
       "Boston Electric Pencil Sharpener, Model 1818, Charcoal Black                                        8.99\n",
       "Bush Heritage Pine Collection 5-Shelf Bookcase, Albany Pine Finish, *Special Order                 53.48\n",
       "Bush Westfield Collection Bookcases, Dark Cherry Finish, Fully Assembled                           57.38\n",
       "Canon PC940 Copier                                                                                 49.00\n",
       "Cardinal Slant-D® Ring Binder, Heavy Gauge Vinyl                                                    2.99\n",
       "Carina Double Wide Media Storage Towers in Natural & Black                                         35.00\n",
       "Col-Erase® Pencils with Erasers                                                                     1.17\n",
       "                                                                                                   ...  \n",
       "R380                                                                                                3.99\n",
       "Revere Boxed Rubber Bands by Revere                                                                 0.76\n",
       "SAFCO Arco Folding Chair                                                                           24.49\n",
       "SAFCO Commercial Wire Shelving, Black                                                              35.00\n",
       "SAFCO Mobile Desk Side File, Wire Frame                                                             6.22\n",
       "SANFORD Liquid Accent Tank-Style Highlighters                                                      0.93\n",
       "Self-Adhesive Address Labels for Typewriters by Universal                                           0.49\n",
       "Staples Wirebound Steno Books, 6\" x 9\", 12/Pack                                                     2.27\n",
       "Staples® General Use 3-Ring Binders                                                                 1.49\n",
       "Telephone Message Books with Fax/Mobile Section, 5 1/2\" x 3 3/16\"                                   1.02\n",
       "Tenex Personal Project File with Scoop Front Design, Black                                          4.51\n",
       "Tennsco Snap-Together Open Shelving Units, Starter Sets and Add-On Units                           35.00\n",
       "Timeport L7089                                                                                      7.69\n",
       "Ultra Commercial Grade Dual Valve Door Closer                                                       3.04\n",
       "Unpadded Memo Slips                                                                                 2.97\n",
       "White Dual Perf Computer Printout Paper, 2700 Sheets, 1 Part, Heavyweight, 20 lbs., 14 7/8 x 11    19.99\n",
       "Wilson Jones 1\" Hanging DublLock® Ring Binders                                                      2.99\n",
       "Xerox 1881                                                                                          6.47\n",
       "Xerox 1887                                                                                          5.21\n",
       "Xerox 1891                                                                                          5.81\n",
       "Xerox 1904                                                                                           NaN\n",
       "Xerox 1936                                                                                          5.97\n",
       "Xerox 1966                                                                                          6.65\n",
       "Xerox 198                                                                                           8.33\n",
       "Xerox 1980                                                                                          6.18\n",
       "Xerox 213                                                                                           7.86\n",
       "Xerox 214                                                                                           7.03\n",
       "Xerox 217                                                                                           8.19\n",
       "Xerox Blank Computer Paper                                                                          5.77\n",
       "XtraLife® ClearVue Slant-D® Ring Binders by Cardinal                                               4.71\n",
       "Name: Price, Length: 93, dtype: float64"
      ]
     },
     "execution_count": 34,
     "metadata": {},
     "output_type": "execute_result"
    }
   ],
   "source": [
    "retail.groupby(['Product Name'])['Price'].mean()"
   ]
  },
  {
   "cell_type": "code",
   "execution_count": 36,
   "metadata": {},
   "outputs": [
    {
     "data": {
      "text/plain": [
       "8"
      ]
     },
     "execution_count": 36,
     "metadata": {},
     "output_type": "execute_result"
    }
   ],
   "source": [
    "retail.Price.isnull().sum()"
   ]
  },
  {
   "cell_type": "code",
   "execution_count": 40,
   "metadata": {},
   "outputs": [
    {
     "data": {
      "text/html": [
       "<div>\n",
       "<style scoped>\n",
       "    .dataframe tbody tr th:only-of-type {\n",
       "        vertical-align: middle;\n",
       "    }\n",
       "\n",
       "    .dataframe tbody tr th {\n",
       "        vertical-align: top;\n",
       "    }\n",
       "\n",
       "    .dataframe thead th {\n",
       "        text-align: right;\n",
       "    }\n",
       "</style>\n",
       "<table border=\"1\" class=\"dataframe\">\n",
       "  <thead>\n",
       "    <tr style=\"text-align: right;\">\n",
       "      <th></th>\n",
       "      <th>Category</th>\n",
       "      <th>Product Name</th>\n",
       "      <th>Price</th>\n",
       "    </tr>\n",
       "  </thead>\n",
       "  <tbody>\n",
       "    <tr>\n",
       "      <th>6</th>\n",
       "      <td>Category Not Available</td>\n",
       "      <td>Angle-D Binders with Locking Rings, Label Holders</td>\n",
       "      <td>NaN</td>\n",
       "    </tr>\n",
       "    <tr>\n",
       "      <th>12</th>\n",
       "      <td>Appliances</td>\n",
       "      <td>Holmes HEPA Air Purifier</td>\n",
       "      <td>NaN</td>\n",
       "    </tr>\n",
       "    <tr>\n",
       "      <th>19</th>\n",
       "      <td>Category Not Available</td>\n",
       "      <td>Not Available</td>\n",
       "      <td>NaN</td>\n",
       "    </tr>\n",
       "    <tr>\n",
       "      <th>55</th>\n",
       "      <td>Category Not Available</td>\n",
       "      <td>Not Available</td>\n",
       "      <td>NaN</td>\n",
       "    </tr>\n",
       "    <tr>\n",
       "      <th>59</th>\n",
       "      <td>Paper</td>\n",
       "      <td>Personal Creations Ink Jet Cards and Labels</td>\n",
       "      <td>NaN</td>\n",
       "    </tr>\n",
       "    <tr>\n",
       "      <th>64</th>\n",
       "      <td>Paper</td>\n",
       "      <td>Hammermill CopyPlus Copy Paper (20Lb. and 84 B...</td>\n",
       "      <td>NaN</td>\n",
       "    </tr>\n",
       "    <tr>\n",
       "      <th>70</th>\n",
       "      <td>Office Furnishings</td>\n",
       "      <td>12-1/2 Diameter Round Wall Clock</td>\n",
       "      <td>NaN</td>\n",
       "    </tr>\n",
       "    <tr>\n",
       "      <th>79</th>\n",
       "      <td>Paper</td>\n",
       "      <td>Xerox 1904</td>\n",
       "      <td>NaN</td>\n",
       "    </tr>\n",
       "  </tbody>\n",
       "</table>\n",
       "</div>"
      ],
      "text/plain": [
       "                  Category                                       Product Name  \\\n",
       "6   Category Not Available  Angle-D Binders with Locking Rings, Label Holders   \n",
       "12              Appliances                           Holmes HEPA Air Purifier   \n",
       "19  Category Not Available                                      Not Available   \n",
       "55  Category Not Available                                      Not Available   \n",
       "59                   Paper       Personal Creations Ink Jet Cards and Labels   \n",
       "64                   Paper  Hammermill CopyPlus Copy Paper (20Lb. and 84 B...   \n",
       "70      Office Furnishings                   12-1/2 Diameter Round Wall Clock   \n",
       "79                   Paper                                         Xerox 1904   \n",
       "\n",
       "    Price  \n",
       "6     NaN  \n",
       "12    NaN  \n",
       "19    NaN  \n",
       "55    NaN  \n",
       "59    NaN  \n",
       "64    NaN  \n",
       "70    NaN  \n",
       "79    NaN  "
      ]
     },
     "execution_count": 40,
     "metadata": {},
     "output_type": "execute_result"
    }
   ],
   "source": [
    "retail.loc[retail.Price.isnull()][['Category','Product Name','Price']]"
   ]
  },
  {
   "cell_type": "code",
   "execution_count": 41,
   "metadata": {},
   "outputs": [
    {
     "data": {
      "text/html": [
       "<div>\n",
       "<style scoped>\n",
       "    .dataframe tbody tr th:only-of-type {\n",
       "        vertical-align: middle;\n",
       "    }\n",
       "\n",
       "    .dataframe tbody tr th {\n",
       "        vertical-align: top;\n",
       "    }\n",
       "\n",
       "    .dataframe thead th {\n",
       "        text-align: right;\n",
       "    }\n",
       "</style>\n",
       "<table border=\"1\" class=\"dataframe\">\n",
       "  <thead>\n",
       "    <tr style=\"text-align: right;\">\n",
       "      <th></th>\n",
       "      <th>Product Name</th>\n",
       "      <th>Category</th>\n",
       "      <th>storeManager</th>\n",
       "      <th>quantity</th>\n",
       "      <th>Price</th>\n",
       "      <th>PercentageSold</th>\n",
       "    </tr>\n",
       "  </thead>\n",
       "  <tbody>\n",
       "    <tr>\n",
       "      <th>4</th>\n",
       "      <td>Holmes HEPA Air Purifier</td>\n",
       "      <td>Appliances</td>\n",
       "      <td>Carlos Soltero</td>\n",
       "      <td>515.0</td>\n",
       "      <td>5.94</td>\n",
       "      <td>0.5</td>\n",
       "    </tr>\n",
       "    <tr>\n",
       "      <th>12</th>\n",
       "      <td>Holmes HEPA Air Purifier</td>\n",
       "      <td>Appliances</td>\n",
       "      <td>Carlos Daly</td>\n",
       "      <td>868.0</td>\n",
       "      <td>NaN</td>\n",
       "      <td>0.5</td>\n",
       "    </tr>\n",
       "  </tbody>\n",
       "</table>\n",
       "</div>"
      ],
      "text/plain": [
       "                Product Name    Category    storeManager  quantity  Price  \\\n",
       "4   Holmes HEPA Air Purifier  Appliances  Carlos Soltero     515.0   5.94   \n",
       "12  Holmes HEPA Air Purifier  Appliances     Carlos Daly     868.0    NaN   \n",
       "\n",
       "    PercentageSold  \n",
       "4              0.5  \n",
       "12             0.5  "
      ]
     },
     "execution_count": 41,
     "metadata": {},
     "output_type": "execute_result"
    }
   ],
   "source": [
    "retail[(retail['Category'] == 'Appliances') & (retail['Product Name'] == 'Holmes HEPA Air Purifier')]"
   ]
  },
  {
   "cell_type": "code",
   "execution_count": 42,
   "metadata": {},
   "outputs": [
    {
     "data": {
      "text/plain": [
       "quantity          691.50\n",
       "Price               5.94\n",
       "PercentageSold      0.50\n",
       "dtype: float64"
      ]
     },
     "execution_count": 42,
     "metadata": {},
     "output_type": "execute_result"
    }
   ],
   "source": [
    "retail[(retail['Category'] == 'Appliances') & (retail['Product Name'] == 'Holmes HEPA Air Purifier')].mean()"
   ]
  },
  {
   "cell_type": "code",
   "execution_count": null,
   "metadata": {},
   "outputs": [],
   "source": []
  }
 ],
 "metadata": {
  "kernelspec": {
   "display_name": "Python 3",
   "language": "python",
   "name": "python3"
  },
  "language_info": {
   "codemirror_mode": {
    "name": "ipython",
    "version": 3
   },
   "file_extension": ".py",
   "mimetype": "text/x-python",
   "name": "python",
   "nbconvert_exporter": "python",
   "pygments_lexer": "ipython3",
   "version": "3.6.5"
  }
 },
 "nbformat": 4,
 "nbformat_minor": 2
}
